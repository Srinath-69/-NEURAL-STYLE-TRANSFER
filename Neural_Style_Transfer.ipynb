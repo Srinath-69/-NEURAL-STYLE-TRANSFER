{
 "cells": [
  {
   "cell_type": "markdown",
   "id": "82b99a41-ee8b-4c14-94a1-04b82c1fc54f",
   "metadata": {
    "panel-layout": {
     "height": 136.8000030517578,
     "visible": true,
     "width": 100
    }
   },
   "source": [
    "                                   ---libraries---\n",
    "tensorflow_hub\n",
    "tensorflow\n",
    "matplotlib\n",
    "numpy\n",
    "opencv-contrib-python"
   ]
  },
  {
   "cell_type": "markdown",
   "id": "f2c9b29a-c529-4c93-a384-dc37383ed54e",
   "metadata": {
    "panel-layout": {
     "height": 51.13333511352539,
     "visible": true,
     "width": 100
    }
   },
   "source": [
    "                     ---Importing dependencies & Pre-trained model---"
   ]
  },
  {
   "cell_type": "code",
   "execution_count": null,
   "id": "7d5ae86f-1088-4fa2-9f3d-2a3194ed93ab",
   "metadata": {},
   "outputs": [],
   "source": [
    "import tensorflow_hub as hub\n",
    "import tensorflow as tf\n",
    "from matplotlib import pyplot as plt\n",
    "import numpy as np\n",
    "import cv2"
   ]
  },
  {
   "cell_type": "code",
   "execution_count": null,
   "id": "dae63755-ec9d-4703-aa77-b35280541f2f",
   "metadata": {},
   "outputs": [],
   "source": [
    "model = hub.load('https://tfhub.dev/google/magenta/arbitrary-image-stylization-v1-256/2')"
   ]
  },
  {
   "cell_type": "markdown",
   "id": "0b266ea7-42e5-4f4b-867b-a3594e87aeb7",
   "metadata": {
    "panel-layout": {
     "height": 51.13333511352539,
     "visible": true,
     "width": 100
    }
   },
   "source": [
    "                             ---Preproces The Image And Load---"
   ]
  },
  {
   "cell_type": "code",
   "execution_count": null,
   "id": "0b67a1e5-95b0-43cc-afb6-b1b4ac07b44b",
   "metadata": {},
   "outputs": [],
   "source": [
    "def load_image(img_path):\n",
    "    img = tf.io.read_file(img_path)\n",
    "    img = tf.image.decode_image(img, channels=3)\n",
    "    img = tf.image.convert_image_dtype(img, tf.float32)\n",
    "    img = img[tf.newaxis, :]\n",
    "    return img"
   ]
  },
  {
   "cell_type": "code",
   "execution_count": null,
   "id": "0e0e80a8-f07b-4f72-9d17-c755870d5a02",
   "metadata": {},
   "outputs": [],
   "source": [
    "content_image = load_image('content.jpeg')\n",
    "style_image = load_image('Style.jpeg')"
   ]
  },
  {
   "cell_type": "markdown",
   "id": "48f74007-ec97-4c96-86c1-d2337c5e87b3",
   "metadata": {
    "panel-layout": {
     "height": 51.13333511352539,
     "visible": true,
     "width": 100
    }
   },
   "source": [
    "                                  ---Visualizing the output---"
   ]
  },
  {
   "cell_type": "code",
   "execution_count": null,
   "id": "bcb7f419-5ef2-4365-815f-46075c7d2c56",
   "metadata": {
    "panel-layout": {
     "height": 27.13333511352539,
     "visible": true,
     "width": 100
    }
   },
   "outputs": [],
   "source": [
    "content_image.shape"
   ]
  },
  {
   "cell_type": "code",
   "execution_count": null,
   "id": "6069ba02-7eb3-4099-bfda-fe72634d663b",
   "metadata": {
    "panel-layout": {
     "height": 701.0000610351562,
     "visible": true,
     "width": 100
    }
   },
   "outputs": [],
   "source": [
    "plt.imshow(np.squeeze(style_image))\n",
    "plt.show()"
   ]
  },
  {
   "cell_type": "code",
   "execution_count": null,
   "id": "7e6ce809-d88d-4fa3-a621-c00e8070d738",
   "metadata": {
    "panel-layout": {
     "height": 701.0000610351562,
     "visible": true,
     "width": 100
    }
   },
   "outputs": [],
   "source": [
    "plt.imshow(np.squeeze(content_image))\n",
    "plt.show()"
   ]
  },
  {
   "cell_type": "markdown",
   "id": "4a713598-8e6b-47cf-9906-6c11669c4eff",
   "metadata": {
    "panel-layout": {
     "height": 51.13333511352539,
     "visible": true,
     "width": 100
    }
   },
   "source": [
    "                                   ---Styled Image---"
   ]
  },
  {
   "cell_type": "code",
   "execution_count": null,
   "id": "d3e58960-1ce9-404d-ba25-c0b28334123c",
   "metadata": {},
   "outputs": [],
   "source": [
    "stylized_image = model(tf.constant(content_image), tf.constant(style_image))[0]"
   ]
  },
  {
   "cell_type": "code",
   "execution_count": null,
   "id": "23c0d91f-9c0f-4182-8f3c-7af4e9a123c4",
   "metadata": {
    "panel-layout": {
     "height": 701.0000610351562,
     "visible": true,
     "width": 100
    }
   },
   "outputs": [],
   "source": [
    "plt.imshow(np.squeeze(stylized_image))\n",
    "plt.show()"
   ]
  },
  {
   "cell_type": "markdown",
   "id": "4553e448-b5d7-4565-a0da-0fa169b3321e",
   "metadata": {
    "panel-layout": {
     "height": 51.13333511352539,
     "visible": true,
     "width": 100
    }
   },
   "source": [
    "                             ---You can Save Your Styled Image---"
   ]
  },
  {
   "cell_type": "code",
   "execution_count": null,
   "id": "3a528192-7019-47db-8674-c318523e93b6",
   "metadata": {
    "panel-layout": {
     "height": 728.1333618164062,
     "visible": true,
     "width": 100
    }
   },
   "outputs": [],
   "source": [
    "cv2.imwrite('generated_img.jpg', cv2.cvtColor(np.squeeze(stylized_image)*255, cv2.COLOR_BGR2RGB))"
   ]
  },
  {
   "cell_type": "code",
   "execution_count": null,
   "id": "1deb854e-057c-4371-ac28-2560e391466e",
   "metadata": {},
   "outputs": [],
   "source": []
  }
 ],
 "metadata": {
  "kernelspec": {
   "display_name": "Python 3 (ipykernel)",
   "language": "python",
   "name": "python3"
  },
  "language_info": {
   "codemirror_mode": {
    "name": "ipython",
    "version": 3
   },
   "file_extension": ".py",
   "mimetype": "text/x-python",
   "name": "python",
   "nbconvert_exporter": "python",
   "pygments_lexer": "ipython3",
   "version": "3.12.7"
  },
  "panel-cell-order": [
   "82b99a41-ee8b-4c14-94a1-04b82c1fc54f",
   "f2c9b29a-c529-4c93-a384-dc37383ed54e",
   "0b266ea7-42e5-4f4b-867b-a3594e87aeb7",
   "48f74007-ec97-4c96-86c1-d2337c5e87b3",
   "bcb7f419-5ef2-4365-815f-46075c7d2c56",
   "6069ba02-7eb3-4099-bfda-fe72634d663b",
   "7e6ce809-d88d-4fa3-a621-c00e8070d738",
   "4a713598-8e6b-47cf-9906-6c11669c4eff",
   "23c0d91f-9c0f-4182-8f3c-7af4e9a123c4",
   "4553e448-b5d7-4565-a0da-0fa169b3321e",
   "3a528192-7019-47db-8674-c318523e93b6"
  ]
 },
 "nbformat": 4,
 "nbformat_minor": 5
}
